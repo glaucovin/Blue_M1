{
  "nbformat": 4,
  "nbformat_minor": 0,
  "metadata": {
    "colab": {
      "name": "Untitled1.ipynb",
      "provenance": [],
      "authorship_tag": "ABX9TyNJHj5hp5/4JGmhcE9OV8aw",
      "include_colab_link": true
    },
    "kernelspec": {
      "name": "python3",
      "display_name": "Python 3"
    },
    "language_info": {
      "name": "python"
    }
  },
  "cells": [
    {
      "cell_type": "markdown",
      "metadata": {
        "id": "view-in-github",
        "colab_type": "text"
      },
      "source": [
        "<a href=\"https://colab.research.google.com/github/glaucovin/Blue_M1/blob/main/Exerc%C3%ADcios.ipynb\" target=\"_parent\"><img src=\"https://colab.research.google.com/assets/colab-badge.svg\" alt=\"Open In Colab\"/></a>"
      ]
    },
    {
      "cell_type": "markdown",
      "metadata": {
        "id": "ry02O1t_SiKL"
      },
      "source": [
        "01 - Considere a string A = \"Os limites só existem se você os deixar existir.(goku)\".\n",
        "\n",
        "Que fatia corresponde a (goku)?\n"
      ]
    },
    {
      "cell_type": "code",
      "metadata": {
        "colab": {
          "base_uri": "https://localhost:8080/"
        },
        "id": "P8ePh4DbShQW",
        "outputId": "a54fc301-e06a-4e7d-d1df-74c6b000cfb4"
      },
      "source": [
        "A =  \"Os limites só existem se você os deixar existir.(goku)\"\n",
        "\n",
        "print (A[48:54])"
      ],
      "execution_count": 6,
      "outputs": [
        {
          "output_type": "stream",
          "text": [
            "(goku)\n"
          ],
          "name": "stdout"
        }
      ]
    },
    {
      "cell_type": "markdown",
      "metadata": {
        "id": "xY1Ix1SlUx3K"
      },
      "source": [
        "02 - Considere a string B = “Fatiou, passou.(Capitão Nascimento - Tropa de Elite)”.\n",
        "\n",
        "Que fatia corresponde a “Tropa”?\n"
      ]
    },
    {
      "cell_type": "code",
      "metadata": {
        "colab": {
          "base_uri": "https://localhost:8080/"
        },
        "id": "fGsWtEF7U6yb",
        "outputId": "55a5ee20-16dc-4b7b-ac0a-d23b1fd68089"
      },
      "source": [
        "B = \"Fatiou, passou.(Capitão Nascimento - Tropa de Elite)\"\n",
        "print(len(B))\n",
        "print(B[37:42])"
      ],
      "execution_count": 10,
      "outputs": [
        {
          "output_type": "stream",
          "text": [
            "52\n",
            "Tropa\n"
          ],
          "name": "stdout"
        }
      ]
    }
  ]
}